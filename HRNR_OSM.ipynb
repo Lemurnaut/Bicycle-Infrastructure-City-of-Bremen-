{
 "cells": [
  {
   "cell_type": "code",
   "execution_count": 1,
   "metadata": {},
   "outputs": [],
   "source": [
    "import geopandas\n",
    "import pydeck\n",
    "import numpy as np"
   ]
  },
  {
   "cell_type": "code",
   "execution_count": 3,
   "metadata": {},
   "outputs": [],
   "source": [
    "# cqi = Cycling Quality Index, data here based on a overpass turbo query and a py script made by osm-verkehrswende.org\n",
    "cqi_data = geopandas.read_file('cycling_quality_index.geojson')"
   ]
  },
  {
   "cell_type": "code",
   "execution_count": 4,
   "metadata": {},
   "outputs": [],
   "source": [
    "# this is the overpass export from Relation: Rad-Hauptroute (3641049) https://www.openstreetmap.org/relation/3641049\n",
    "bikeroutes_data = geopandas.read_file('Hauptrouten_osm_export.geojson')"
   ]
  },
  {
   "cell_type": "code",
   "execution_count": 5,
   "metadata": {},
   "outputs": [
    {
     "data": {
      "text/html": [
       "<div>\n",
       "<style scoped>\n",
       "    .dataframe tbody tr th:only-of-type {\n",
       "        vertical-align: middle;\n",
       "    }\n",
       "\n",
       "    .dataframe tbody tr th {\n",
       "        vertical-align: top;\n",
       "    }\n",
       "\n",
       "    .dataframe thead th {\n",
       "        text-align: right;\n",
       "    }\n",
       "</style>\n",
       "<table border=\"1\" class=\"dataframe\">\n",
       "  <thead>\n",
       "    <tr style=\"text-align: right;\">\n",
       "      <th></th>\n",
       "      <th>id</th>\n",
       "      <th>@id</th>\n",
       "      <th>access</th>\n",
       "      <th>access:lanes</th>\n",
       "      <th>access:lanes:forward</th>\n",
       "      <th>agricultural</th>\n",
       "      <th>alt_name</th>\n",
       "      <th>bicycle</th>\n",
       "      <th>bicycle:backward</th>\n",
       "      <th>bicycle:conditional</th>\n",
       "      <th>...</th>\n",
       "      <th>website</th>\n",
       "      <th>wheelchair</th>\n",
       "      <th>width</th>\n",
       "      <th>width:available</th>\n",
       "      <th>width:lanes</th>\n",
       "      <th>wikidata</th>\n",
       "      <th>wikipedia</th>\n",
       "      <th>zone:maxspeed</th>\n",
       "      <th>zone:traffic</th>\n",
       "      <th>geometry</th>\n",
       "    </tr>\n",
       "  </thead>\n",
       "  <tbody>\n",
       "    <tr>\n",
       "      <th>0</th>\n",
       "      <td>way/3999478</td>\n",
       "      <td>way/3999478</td>\n",
       "      <td>None</td>\n",
       "      <td>None</td>\n",
       "      <td>None</td>\n",
       "      <td>None</td>\n",
       "      <td>None</td>\n",
       "      <td>None</td>\n",
       "      <td>None</td>\n",
       "      <td>None</td>\n",
       "      <td>...</td>\n",
       "      <td>None</td>\n",
       "      <td>None</td>\n",
       "      <td>None</td>\n",
       "      <td>None</td>\n",
       "      <td>None</td>\n",
       "      <td>None</td>\n",
       "      <td>de:Lilienthaler Heerstraße</td>\n",
       "      <td>None</td>\n",
       "      <td>None</td>\n",
       "      <td>LINESTRING (8.88057 53.10163, 8.88063 53.10166...</td>\n",
       "    </tr>\n",
       "    <tr>\n",
       "      <th>1</th>\n",
       "      <td>way/3999570</td>\n",
       "      <td>way/3999570</td>\n",
       "      <td>None</td>\n",
       "      <td>None</td>\n",
       "      <td>None</td>\n",
       "      <td>None</td>\n",
       "      <td>None</td>\n",
       "      <td>None</td>\n",
       "      <td>None</td>\n",
       "      <td>None</td>\n",
       "      <td>...</td>\n",
       "      <td>None</td>\n",
       "      <td>None</td>\n",
       "      <td>None</td>\n",
       "      <td>None</td>\n",
       "      <td>None</td>\n",
       "      <td>None</td>\n",
       "      <td>None</td>\n",
       "      <td>None</td>\n",
       "      <td>None</td>\n",
       "      <td>LINESTRING (8.90266 53.10012, 8.90316 53.09982...</td>\n",
       "    </tr>\n",
       "    <tr>\n",
       "      <th>2</th>\n",
       "      <td>way/3999576</td>\n",
       "      <td>way/3999576</td>\n",
       "      <td>None</td>\n",
       "      <td>None</td>\n",
       "      <td>None</td>\n",
       "      <td>None</td>\n",
       "      <td>None</td>\n",
       "      <td>None</td>\n",
       "      <td>None</td>\n",
       "      <td>None</td>\n",
       "      <td>...</td>\n",
       "      <td>None</td>\n",
       "      <td>None</td>\n",
       "      <td>None</td>\n",
       "      <td>None</td>\n",
       "      <td>None</td>\n",
       "      <td>None</td>\n",
       "      <td>None</td>\n",
       "      <td>None</td>\n",
       "      <td>None</td>\n",
       "      <td>LINESTRING (8.87184 53.09713, 8.87151 53.09714...</td>\n",
       "    </tr>\n",
       "  </tbody>\n",
       "</table>\n",
       "<p>3 rows × 352 columns</p>\n",
       "</div>"
      ],
      "text/plain": [
       "            id          @id access access:lanes access:lanes:forward  \\\n",
       "0  way/3999478  way/3999478   None         None                 None   \n",
       "1  way/3999570  way/3999570   None         None                 None   \n",
       "2  way/3999576  way/3999576   None         None                 None   \n",
       "\n",
       "  agricultural alt_name bicycle bicycle:backward bicycle:conditional  ...  \\\n",
       "0         None     None    None             None                None  ...   \n",
       "1         None     None    None             None                None  ...   \n",
       "2         None     None    None             None                None  ...   \n",
       "\n",
       "  website wheelchair width width:available width:lanes wikidata  \\\n",
       "0    None       None  None            None        None     None   \n",
       "1    None       None  None            None        None     None   \n",
       "2    None       None  None            None        None     None   \n",
       "\n",
       "                    wikipedia zone:maxspeed zone:traffic  \\\n",
       "0  de:Lilienthaler Heerstraße          None         None   \n",
       "1                        None          None         None   \n",
       "2                        None          None         None   \n",
       "\n",
       "                                            geometry  \n",
       "0  LINESTRING (8.88057 53.10163, 8.88063 53.10166...  \n",
       "1  LINESTRING (8.90266 53.10012, 8.90316 53.09982...  \n",
       "2  LINESTRING (8.87184 53.09713, 8.87151 53.09714...  \n",
       "\n",
       "[3 rows x 352 columns]"
      ]
     },
     "execution_count": 5,
     "metadata": {},
     "output_type": "execute_result"
    }
   ],
   "source": [
    "bikeroutes_data.head(3)"
   ]
  },
  {
   "cell_type": "code",
   "execution_count": 6,
   "metadata": {},
   "outputs": [
    {
     "data": {
      "text/html": [
       "<div>\n",
       "<style scoped>\n",
       "    .dataframe tbody tr th:only-of-type {\n",
       "        vertical-align: middle;\n",
       "    }\n",
       "\n",
       "    .dataframe tbody tr th {\n",
       "        vertical-align: top;\n",
       "    }\n",
       "\n",
       "    .dataframe thead th {\n",
       "        text-align: right;\n",
       "    }\n",
       "</style>\n",
       "<table border=\"1\" class=\"dataframe\">\n",
       "  <thead>\n",
       "    <tr style=\"text-align: right;\">\n",
       "      <th></th>\n",
       "      <th>id</th>\n",
       "      <th>name</th>\n",
       "      <th>way_type</th>\n",
       "      <th>index</th>\n",
       "      <th>index_10</th>\n",
       "      <th>stress_level</th>\n",
       "      <th>offset</th>\n",
       "      <th>side</th>\n",
       "      <th>proc_width</th>\n",
       "      <th>proc_surface</th>\n",
       "      <th>...</th>\n",
       "      <th>data_missing</th>\n",
       "      <th>data_missing_width</th>\n",
       "      <th>data_missing_surface</th>\n",
       "      <th>data_missing_smoothness</th>\n",
       "      <th>data_missing_maxspeed</th>\n",
       "      <th>data_missing_parking</th>\n",
       "      <th>data_missing_lit</th>\n",
       "      <th>filter_usable</th>\n",
       "      <th>filter_way_type</th>\n",
       "      <th>geometry</th>\n",
       "    </tr>\n",
       "  </thead>\n",
       "  <tbody>\n",
       "    <tr>\n",
       "      <th>0</th>\n",
       "      <td>way/3999478</td>\n",
       "      <td>Lilienthaler Heerstraße</td>\n",
       "      <td>shared traffic lane</td>\n",
       "      <td>29</td>\n",
       "      <td>2</td>\n",
       "      <td>4</td>\n",
       "      <td>NaN</td>\n",
       "      <td>None</td>\n",
       "      <td>3.2</td>\n",
       "      <td>asphalt</td>\n",
       "      <td>...</td>\n",
       "      <td>width:lanes</td>\n",
       "      <td>NaN</td>\n",
       "      <td>NaN</td>\n",
       "      <td>NaN</td>\n",
       "      <td>NaN</td>\n",
       "      <td>NaN</td>\n",
       "      <td>NaN</td>\n",
       "      <td>1</td>\n",
       "      <td>shared traffic</td>\n",
       "      <td>LINESTRING (8.88057 53.10163, 8.88070 53.10168)</td>\n",
       "    </tr>\n",
       "    <tr>\n",
       "      <th>1</th>\n",
       "      <td>way/3999570</td>\n",
       "      <td>Rockwinkeler Heerstraße</td>\n",
       "      <td>shared traffic lane</td>\n",
       "      <td>29</td>\n",
       "      <td>2</td>\n",
       "      <td>4</td>\n",
       "      <td>NaN</td>\n",
       "      <td>None</td>\n",
       "      <td>3.2</td>\n",
       "      <td>asphalt</td>\n",
       "      <td>...</td>\n",
       "      <td>width:lanes;smoothness</td>\n",
       "      <td>NaN</td>\n",
       "      <td>NaN</td>\n",
       "      <td>1.0</td>\n",
       "      <td>NaN</td>\n",
       "      <td>NaN</td>\n",
       "      <td>NaN</td>\n",
       "      <td>1</td>\n",
       "      <td>shared traffic</td>\n",
       "      <td>LINESTRING (8.90266 53.10012, 8.90316 53.09982...</td>\n",
       "    </tr>\n",
       "    <tr>\n",
       "      <th>2</th>\n",
       "      <td>way/3999575</td>\n",
       "      <td>Luisental</td>\n",
       "      <td>shared road</td>\n",
       "      <td>63</td>\n",
       "      <td>6</td>\n",
       "      <td>2</td>\n",
       "      <td>NaN</td>\n",
       "      <td>None</td>\n",
       "      <td>11.0</td>\n",
       "      <td>asphalt</td>\n",
       "      <td>...</td>\n",
       "      <td>width;smoothness;lit</td>\n",
       "      <td>1.0</td>\n",
       "      <td>NaN</td>\n",
       "      <td>1.0</td>\n",
       "      <td>NaN</td>\n",
       "      <td>NaN</td>\n",
       "      <td>1.0</td>\n",
       "      <td>1</td>\n",
       "      <td>shared traffic</td>\n",
       "      <td>LINESTRING (8.87138 53.09840, 8.87188 53.09836...</td>\n",
       "    </tr>\n",
       "  </tbody>\n",
       "</table>\n",
       "<p>3 rows × 45 columns</p>\n",
       "</div>"
      ],
      "text/plain": [
       "            id                     name             way_type  index  index_10  \\\n",
       "0  way/3999478  Lilienthaler Heerstraße  shared traffic lane     29         2   \n",
       "1  way/3999570  Rockwinkeler Heerstraße  shared traffic lane     29         2   \n",
       "2  way/3999575                Luisental          shared road     63         6   \n",
       "\n",
       "   stress_level  offset  side  proc_width proc_surface  ...  \\\n",
       "0             4     NaN  None         3.2      asphalt  ...   \n",
       "1             4     NaN  None         3.2      asphalt  ...   \n",
       "2             2     NaN  None        11.0      asphalt  ...   \n",
       "\n",
       "             data_missing data_missing_width data_missing_surface  \\\n",
       "0             width:lanes                NaN                  NaN   \n",
       "1  width:lanes;smoothness                NaN                  NaN   \n",
       "2    width;smoothness;lit                1.0                  NaN   \n",
       "\n",
       "  data_missing_smoothness  data_missing_maxspeed data_missing_parking  \\\n",
       "0                     NaN                    NaN                  NaN   \n",
       "1                     1.0                    NaN                  NaN   \n",
       "2                     1.0                    NaN                  NaN   \n",
       "\n",
       "  data_missing_lit filter_usable filter_way_type  \\\n",
       "0              NaN             1  shared traffic   \n",
       "1              NaN             1  shared traffic   \n",
       "2              1.0             1  shared traffic   \n",
       "\n",
       "                                            geometry  \n",
       "0    LINESTRING (8.88057 53.10163, 8.88070 53.10168)  \n",
       "1  LINESTRING (8.90266 53.10012, 8.90316 53.09982...  \n",
       "2  LINESTRING (8.87138 53.09840, 8.87188 53.09836...  \n",
       "\n",
       "[3 rows x 45 columns]"
      ]
     },
     "execution_count": 6,
     "metadata": {},
     "output_type": "execute_result"
    }
   ],
   "source": [
    "cqi_data.head(3)"
   ]
  },
  {
   "cell_type": "code",
   "execution_count": 7,
   "metadata": {},
   "outputs": [
    {
     "name": "stdout",
     "output_type": "stream",
     "text": [
      "cqi_data crs: EPSG:4326\n",
      "bikeroutes_data crs: EPSG:4326\n"
     ]
    }
   ],
   "source": [
    "# checking the coordinate reference system (crs)\n",
    "print(f'cqi_data crs: {cqi_data.crs}')\n",
    "print(f'bikeroutes_data crs: {bikeroutes_data.crs}')"
   ]
  },
  {
   "cell_type": "code",
   "execution_count": 8,
   "metadata": {},
   "outputs": [],
   "source": [
    "# reading data from file takes a while so the raw data is copied in a new var for safety\n",
    "df_cqi = cqi_data\n",
    "df_bikeroutes = bikeroutes_data"
   ]
  },
  {
   "cell_type": "code",
   "execution_count": 9,
   "metadata": {},
   "outputs": [],
   "source": [
    "# create a list with the OSM way IDs of the Hauptrouten \n",
    "filter_list  = df_bikeroutes['id'].to_list()"
   ]
  },
  {
   "cell_type": "code",
   "execution_count": 10,
   "metadata": {},
   "outputs": [
    {
     "data": {
      "text/plain": [
       "4348"
      ]
     },
     "execution_count": 10,
     "metadata": {},
     "output_type": "execute_result"
    }
   ],
   "source": [
    "# count way in Hauptrouten\n",
    "len(filter_list)"
   ]
  },
  {
   "cell_type": "code",
   "execution_count": 11,
   "metadata": {},
   "outputs": [],
   "source": [
    "# filter CQI data based on way IDs of the Hauptrouten\n",
    "df_final = df_cqi[df_cqi['id'].isin(filter_list)]"
   ]
  },
  {
   "cell_type": "code",
   "execution_count": 12,
   "metadata": {},
   "outputs": [
    {
     "data": {
      "text/plain": [
       "6415"
      ]
     },
     "execution_count": 12,
     "metadata": {},
     "output_type": "execute_result"
    }
   ],
   "source": [
    "# ways in filtered dataframe\n",
    "# it's different\n",
    "len(df_final)"
   ]
  },
  {
   "cell_type": "code",
   "execution_count": 13,
   "metadata": {},
   "outputs": [
    {
     "name": "stdout",
     "output_type": "stream",
     "text": [
      "                   id                    name        way_type  index  \\\n",
      "31874     way/4672616    Heinrich-Plett-Allee     cycle track     53   \n",
      "31876   way/140686318       Stader Landstraße     cycle track     56   \n",
      "31877   way/188411413            Contrescarpe     cycle track     57   \n",
      "31879   way/851623150           Farger Straße     cycle track     53   \n",
      "31880   way/140648423       Burger Heerstraße     cycle track     64   \n",
      "...               ...                     ...             ...    ...   \n",
      "35476    way/31014131            Achterstraße  shared footway     44   \n",
      "35477  way/1248915807          Rekumer Straße  shared footway     44   \n",
      "35478    way/27800973          Rekumer Straße  shared footway     44   \n",
      "35479   way/280412362      Borchshöher Straße  shared footway     37   \n",
      "35480   way/115412890  Zum Huchtinger Bahnhof  shared footway     44   \n",
      "\n",
      "       index_10  stress_level  offset   side  proc_width   proc_surface  ...  \\\n",
      "31874         5             1     0.0   left         1.5  paving_stones  ...   \n",
      "31876         5             1     0.0   left         1.5  paving_stones  ...   \n",
      "31877         5             1     0.0   left         1.5  paving_stones  ...   \n",
      "31879         5             1     0.0   left         1.5  paving_stones  ...   \n",
      "31880         6             1     0.0   left         1.5       concrete  ...   \n",
      "...         ...           ...     ...    ...         ...            ...  ...   \n",
      "35476         4             1     0.0  right         2.0          paved  ...   \n",
      "35477         4             1     0.0  right         2.0        asphalt  ...   \n",
      "35478         4             1     0.0  right         2.0        asphalt  ...   \n",
      "35479         3             1     0.0  right         2.0        asphalt  ...   \n",
      "35480         4             1     0.0  right         2.0        asphalt  ...   \n",
      "\n",
      "                   data_missing data_missing_width data_missing_surface  \\\n",
      "31874  width;surface;smoothness                1.0                  1.0   \n",
      "31876  width;surface;smoothness                1.0                  1.0   \n",
      "31877          width;smoothness                1.0                  NaN   \n",
      "31879  width;surface;smoothness                1.0                  1.0   \n",
      "31880                     width                1.0                  NaN   \n",
      "...                         ...                ...                  ...   \n",
      "35476          width;smoothness                1.0                  NaN   \n",
      "35477  width;surface;smoothness                1.0                  1.0   \n",
      "35478  width;surface;smoothness                1.0                  1.0   \n",
      "35479             width;surface                1.0                  1.0   \n",
      "35480  width;surface;smoothness                1.0                  1.0   \n",
      "\n",
      "      data_missing_smoothness  data_missing_maxspeed data_missing_parking  \\\n",
      "31874                     1.0                    NaN                  NaN   \n",
      "31876                     1.0                    NaN                  NaN   \n",
      "31877                     1.0                    NaN                  NaN   \n",
      "31879                     1.0                    NaN                  NaN   \n",
      "31880                     NaN                    NaN                  NaN   \n",
      "...                       ...                    ...                  ...   \n",
      "35476                     1.0                    NaN                  NaN   \n",
      "35477                     1.0                    NaN                  NaN   \n",
      "35478                     1.0                    NaN                  NaN   \n",
      "35479                     NaN                    NaN                  NaN   \n",
      "35480                     1.0                    NaN                  NaN   \n",
      "\n",
      "      data_missing_lit filter_usable filter_way_type  \\\n",
      "31874              NaN             1       separated   \n",
      "31876              NaN             1       separated   \n",
      "31877              NaN             1       separated   \n",
      "31879              NaN             1       separated   \n",
      "31880              NaN             1       separated   \n",
      "...                ...           ...             ...   \n",
      "35476              NaN             1       separated   \n",
      "35477              NaN             1       separated   \n",
      "35478              NaN             1       separated   \n",
      "35479              NaN             1       separated   \n",
      "35480              NaN             1       separated   \n",
      "\n",
      "                                                geometry  \n",
      "31874  LINESTRING (8.71548 53.05328, 8.71542 53.05298...  \n",
      "31876  LINESTRING (8.70212 53.16768, 8.70231 53.16769...  \n",
      "31877  LINESTRING (8.81492 53.07650, 8.81495 53.07655...  \n",
      "31879    LINESTRING (8.52406 53.20406, 8.52406 53.20397)  \n",
      "31880    LINESTRING (8.70431 53.15652, 8.70417 53.15718)  \n",
      "...                                                  ...  \n",
      "35476  LINESTRING (8.86154 53.09937, 8.86170 53.09926...  \n",
      "35477  LINESTRING (8.51061 53.22647, 8.51086 53.22695...  \n",
      "35478  LINESTRING (8.50868 53.22251, 8.50864 53.22232...  \n",
      "35479    LINESTRING (8.63418 53.18275, 8.63410 53.18269)  \n",
      "35480  LINESTRING (8.73633 53.05911, 8.73630 53.05894...  \n",
      "\n",
      "[2242 rows x 45 columns]\n"
     ]
    }
   ],
   "source": [
    "# let's check if there are duplicated IDs in dataframe\n",
    "df = df_final\n",
    "\n",
    "print(df[df.duplicated(subset='id')])"
   ]
  },
  {
   "cell_type": "code",
   "execution_count": 15,
   "metadata": {},
   "outputs": [
    {
     "data": {
      "text/plain": [
       "4173"
      ]
     },
     "execution_count": 15,
     "metadata": {},
     "output_type": "execute_result"
    }
   ],
   "source": [
    "# the is still a difference between CQI data without duplicated IDs and IDs in Hauptrouten\n",
    "len(df) - len(df[df.duplicated(subset='id')])"
   ]
  },
  {
   "cell_type": "code",
   "execution_count": 16,
   "metadata": {},
   "outputs": [
    {
     "data": {
      "text/html": [
       "<div>\n",
       "<style scoped>\n",
       "    .dataframe tbody tr th:only-of-type {\n",
       "        vertical-align: middle;\n",
       "    }\n",
       "\n",
       "    .dataframe tbody tr th {\n",
       "        vertical-align: top;\n",
       "    }\n",
       "\n",
       "    .dataframe thead th {\n",
       "        text-align: right;\n",
       "    }\n",
       "</style>\n",
       "<table border=\"1\" class=\"dataframe\">\n",
       "  <thead>\n",
       "    <tr style=\"text-align: right;\">\n",
       "      <th></th>\n",
       "      <th>id</th>\n",
       "      <th>name</th>\n",
       "      <th>way_type</th>\n",
       "      <th>index</th>\n",
       "      <th>index_10</th>\n",
       "      <th>stress_level</th>\n",
       "      <th>offset</th>\n",
       "      <th>side</th>\n",
       "      <th>proc_width</th>\n",
       "      <th>proc_surface</th>\n",
       "      <th>...</th>\n",
       "      <th>data_missing</th>\n",
       "      <th>data_missing_width</th>\n",
       "      <th>data_missing_surface</th>\n",
       "      <th>data_missing_smoothness</th>\n",
       "      <th>data_missing_maxspeed</th>\n",
       "      <th>data_missing_parking</th>\n",
       "      <th>data_missing_lit</th>\n",
       "      <th>filter_usable</th>\n",
       "      <th>filter_way_type</th>\n",
       "      <th>geometry</th>\n",
       "    </tr>\n",
       "  </thead>\n",
       "  <tbody>\n",
       "    <tr>\n",
       "      <th>12666</th>\n",
       "      <td>way/140648423</td>\n",
       "      <td>Burger Heerstraße</td>\n",
       "      <td>shared traffic lane</td>\n",
       "      <td>29</td>\n",
       "      <td>2</td>\n",
       "      <td>4</td>\n",
       "      <td>NaN</td>\n",
       "      <td>None</td>\n",
       "      <td>3.2</td>\n",
       "      <td>asphalt</td>\n",
       "      <td>...</td>\n",
       "      <td>width:lanes;smoothness</td>\n",
       "      <td>NaN</td>\n",
       "      <td>NaN</td>\n",
       "      <td>1.0</td>\n",
       "      <td>NaN</td>\n",
       "      <td>NaN</td>\n",
       "      <td>NaN</td>\n",
       "      <td>1</td>\n",
       "      <td>shared traffic</td>\n",
       "      <td>LINESTRING (8.70431 53.15652, 8.70417 53.15718)</td>\n",
       "    </tr>\n",
       "    <tr>\n",
       "      <th>31880</th>\n",
       "      <td>way/140648423</td>\n",
       "      <td>Burger Heerstraße</td>\n",
       "      <td>cycle track</td>\n",
       "      <td>64</td>\n",
       "      <td>6</td>\n",
       "      <td>1</td>\n",
       "      <td>0.0</td>\n",
       "      <td>left</td>\n",
       "      <td>1.5</td>\n",
       "      <td>concrete</td>\n",
       "      <td>...</td>\n",
       "      <td>width</td>\n",
       "      <td>1.0</td>\n",
       "      <td>NaN</td>\n",
       "      <td>NaN</td>\n",
       "      <td>NaN</td>\n",
       "      <td>NaN</td>\n",
       "      <td>NaN</td>\n",
       "      <td>1</td>\n",
       "      <td>separated</td>\n",
       "      <td>LINESTRING (8.70431 53.15652, 8.70417 53.15718)</td>\n",
       "    </tr>\n",
       "    <tr>\n",
       "      <th>34118</th>\n",
       "      <td>way/140648423</td>\n",
       "      <td>Burger Heerstraße</td>\n",
       "      <td>cycle track</td>\n",
       "      <td>64</td>\n",
       "      <td>6</td>\n",
       "      <td>1</td>\n",
       "      <td>0.0</td>\n",
       "      <td>right</td>\n",
       "      <td>1.5</td>\n",
       "      <td>concrete</td>\n",
       "      <td>...</td>\n",
       "      <td>width</td>\n",
       "      <td>1.0</td>\n",
       "      <td>NaN</td>\n",
       "      <td>NaN</td>\n",
       "      <td>NaN</td>\n",
       "      <td>NaN</td>\n",
       "      <td>NaN</td>\n",
       "      <td>1</td>\n",
       "      <td>separated</td>\n",
       "      <td>LINESTRING (8.70431 53.15652, 8.70417 53.15718)</td>\n",
       "    </tr>\n",
       "  </tbody>\n",
       "</table>\n",
       "<p>3 rows × 45 columns</p>\n",
       "</div>"
      ],
      "text/plain": [
       "                  id               name             way_type  index  index_10  \\\n",
       "12666  way/140648423  Burger Heerstraße  shared traffic lane     29         2   \n",
       "31880  way/140648423  Burger Heerstraße          cycle track     64         6   \n",
       "34118  way/140648423  Burger Heerstraße          cycle track     64         6   \n",
       "\n",
       "       stress_level  offset   side  proc_width proc_surface  ...  \\\n",
       "12666             4     NaN   None         3.2      asphalt  ...   \n",
       "31880             1     0.0   left         1.5     concrete  ...   \n",
       "34118             1     0.0  right         1.5     concrete  ...   \n",
       "\n",
       "                 data_missing data_missing_width data_missing_surface  \\\n",
       "12666  width:lanes;smoothness                NaN                  NaN   \n",
       "31880                   width                1.0                  NaN   \n",
       "34118                   width                1.0                  NaN   \n",
       "\n",
       "      data_missing_smoothness  data_missing_maxspeed data_missing_parking  \\\n",
       "12666                     1.0                    NaN                  NaN   \n",
       "31880                     NaN                    NaN                  NaN   \n",
       "34118                     NaN                    NaN                  NaN   \n",
       "\n",
       "      data_missing_lit filter_usable filter_way_type  \\\n",
       "12666              NaN             1  shared traffic   \n",
       "31880              NaN             1       separated   \n",
       "34118              NaN             1       separated   \n",
       "\n",
       "                                              geometry  \n",
       "12666  LINESTRING (8.70431 53.15652, 8.70417 53.15718)  \n",
       "31880  LINESTRING (8.70431 53.15652, 8.70417 53.15718)  \n",
       "34118  LINESTRING (8.70431 53.15652, 8.70417 53.15718)  \n",
       "\n",
       "[3 rows x 45 columns]"
      ]
     },
     "execution_count": 16,
     "metadata": {},
     "output_type": "execute_result"
    }
   ],
   "source": [
    "# it seems the osm-verkehrwende py script splits some ways in three (see column 'side') None, left and right\n",
    "df[df['id'] == 'way/140648423']"
   ]
  },
  {
   "cell_type": "code",
   "execution_count": 17,
   "metadata": {},
   "outputs": [
    {
     "data": {
      "text/html": [
       "<div>\n",
       "<style scoped>\n",
       "    .dataframe tbody tr th:only-of-type {\n",
       "        vertical-align: middle;\n",
       "    }\n",
       "\n",
       "    .dataframe tbody tr th {\n",
       "        vertical-align: top;\n",
       "    }\n",
       "\n",
       "    .dataframe thead th {\n",
       "        text-align: right;\n",
       "    }\n",
       "</style>\n",
       "<table border=\"1\" class=\"dataframe\">\n",
       "  <thead>\n",
       "    <tr style=\"text-align: right;\">\n",
       "      <th></th>\n",
       "      <th>id</th>\n",
       "      <th>name</th>\n",
       "      <th>way_type</th>\n",
       "      <th>index</th>\n",
       "      <th>index_10</th>\n",
       "      <th>stress_level</th>\n",
       "      <th>offset</th>\n",
       "      <th>side</th>\n",
       "      <th>proc_width</th>\n",
       "      <th>proc_surface</th>\n",
       "      <th>...</th>\n",
       "      <th>data_missing</th>\n",
       "      <th>data_missing_width</th>\n",
       "      <th>data_missing_surface</th>\n",
       "      <th>data_missing_smoothness</th>\n",
       "      <th>data_missing_maxspeed</th>\n",
       "      <th>data_missing_parking</th>\n",
       "      <th>data_missing_lit</th>\n",
       "      <th>filter_usable</th>\n",
       "      <th>filter_way_type</th>\n",
       "      <th>geometry</th>\n",
       "    </tr>\n",
       "  </thead>\n",
       "  <tbody>\n",
       "    <tr>\n",
       "      <th>1285</th>\n",
       "      <td>way/4672616</td>\n",
       "      <td>Heinrich-Plett-Allee</td>\n",
       "      <td>shared traffic lane</td>\n",
       "      <td>29</td>\n",
       "      <td>2</td>\n",
       "      <td>4</td>\n",
       "      <td>NaN</td>\n",
       "      <td>None</td>\n",
       "      <td>3.2</td>\n",
       "      <td>asphalt</td>\n",
       "      <td>...</td>\n",
       "      <td>width:lanes;smoothness</td>\n",
       "      <td>NaN</td>\n",
       "      <td>NaN</td>\n",
       "      <td>1.0</td>\n",
       "      <td>NaN</td>\n",
       "      <td>NaN</td>\n",
       "      <td>NaN</td>\n",
       "      <td>1</td>\n",
       "      <td>shared traffic</td>\n",
       "      <td>LINESTRING (8.71548 53.05328, 8.71542 53.05298...</td>\n",
       "    </tr>\n",
       "    <tr>\n",
       "      <th>31874</th>\n",
       "      <td>way/4672616</td>\n",
       "      <td>Heinrich-Plett-Allee</td>\n",
       "      <td>cycle track</td>\n",
       "      <td>53</td>\n",
       "      <td>5</td>\n",
       "      <td>1</td>\n",
       "      <td>0.0</td>\n",
       "      <td>left</td>\n",
       "      <td>1.5</td>\n",
       "      <td>paving_stones</td>\n",
       "      <td>...</td>\n",
       "      <td>width;surface;smoothness</td>\n",
       "      <td>1.0</td>\n",
       "      <td>1.0</td>\n",
       "      <td>1.0</td>\n",
       "      <td>NaN</td>\n",
       "      <td>NaN</td>\n",
       "      <td>NaN</td>\n",
       "      <td>1</td>\n",
       "      <td>separated</td>\n",
       "      <td>LINESTRING (8.71548 53.05328, 8.71542 53.05298...</td>\n",
       "    </tr>\n",
       "    <tr>\n",
       "      <th>34106</th>\n",
       "      <td>way/4672616</td>\n",
       "      <td>Heinrich-Plett-Allee</td>\n",
       "      <td>cycle track</td>\n",
       "      <td>53</td>\n",
       "      <td>5</td>\n",
       "      <td>1</td>\n",
       "      <td>0.0</td>\n",
       "      <td>right</td>\n",
       "      <td>1.5</td>\n",
       "      <td>paving_stones</td>\n",
       "      <td>...</td>\n",
       "      <td>width;surface;smoothness</td>\n",
       "      <td>1.0</td>\n",
       "      <td>1.0</td>\n",
       "      <td>1.0</td>\n",
       "      <td>NaN</td>\n",
       "      <td>NaN</td>\n",
       "      <td>NaN</td>\n",
       "      <td>1</td>\n",
       "      <td>separated</td>\n",
       "      <td>LINESTRING (8.71548 53.05328, 8.71542 53.05298...</td>\n",
       "    </tr>\n",
       "  </tbody>\n",
       "</table>\n",
       "<p>3 rows × 45 columns</p>\n",
       "</div>"
      ],
      "text/plain": [
       "                id                  name             way_type  index  \\\n",
       "1285   way/4672616  Heinrich-Plett-Allee  shared traffic lane     29   \n",
       "31874  way/4672616  Heinrich-Plett-Allee          cycle track     53   \n",
       "34106  way/4672616  Heinrich-Plett-Allee          cycle track     53   \n",
       "\n",
       "       index_10  stress_level  offset   side  proc_width   proc_surface  ...  \\\n",
       "1285          2             4     NaN   None         3.2        asphalt  ...   \n",
       "31874         5             1     0.0   left         1.5  paving_stones  ...   \n",
       "34106         5             1     0.0  right         1.5  paving_stones  ...   \n",
       "\n",
       "                   data_missing data_missing_width data_missing_surface  \\\n",
       "1285     width:lanes;smoothness                NaN                  NaN   \n",
       "31874  width;surface;smoothness                1.0                  1.0   \n",
       "34106  width;surface;smoothness                1.0                  1.0   \n",
       "\n",
       "      data_missing_smoothness  data_missing_maxspeed data_missing_parking  \\\n",
       "1285                      1.0                    NaN                  NaN   \n",
       "31874                     1.0                    NaN                  NaN   \n",
       "34106                     1.0                    NaN                  NaN   \n",
       "\n",
       "      data_missing_lit filter_usable filter_way_type  \\\n",
       "1285               NaN             1  shared traffic   \n",
       "31874              NaN             1       separated   \n",
       "34106              NaN             1       separated   \n",
       "\n",
       "                                                geometry  \n",
       "1285   LINESTRING (8.71548 53.05328, 8.71542 53.05298...  \n",
       "31874  LINESTRING (8.71548 53.05328, 8.71542 53.05298...  \n",
       "34106  LINESTRING (8.71548 53.05328, 8.71542 53.05298...  \n",
       "\n",
       "[3 rows x 45 columns]"
      ]
     },
     "execution_count": 17,
     "metadata": {},
     "output_type": "execute_result"
    }
   ],
   "source": [
    "# another test\n",
    "df[df['id'] == 'way/4672616']"
   ]
  },
  {
   "cell_type": "code",
   "execution_count": 18,
   "metadata": {},
   "outputs": [],
   "source": [
    "# transform geometry to a list with lat,lon\n",
    "# https://stackoverflow.com/questions/69305911/plot-linestring-z-from-geodataframe-using-pydecks-pathlayer-or-triplayer\n",
    "def my_geom_coord_extractor(input_geom):\n",
    "    if (input_geom is None) or (input_geom is np.nan):\n",
    "        return []\n",
    "    else:\n",
    "        if input_geom.type[:len('multi')].lower() == 'multi':\n",
    "            full_coord_list = []\n",
    "            for geom_part in input_geom.geoms:\n",
    "                geom_part_2d_coords = [[coord[0],coord[1]] for coord in list(geom_part.coords)]\n",
    "                full_coord_list.append(geom_part_2d_coords)\n",
    "        else:\n",
    "            full_coord_list = [[coord[0],coord[1]] for coord in list(input_geom.coords)]\n",
    "        return full_coord_list"
   ]
  },
  {
   "cell_type": "code",
   "execution_count": 19,
   "metadata": {},
   "outputs": [
    {
     "name": "stderr",
     "output_type": "stream",
     "text": [
      "C:\\Users\\koma2\\AppData\\Local\\Temp\\ipykernel_9696\\193320771.py:7: ShapelyDeprecationWarning: The 'type' attribute is deprecated, and will be removed in the future. You can use the 'geom_type' attribute instead.\n",
      "  if input_geom.type[:len('multi')].lower() == 'multi':\n",
      "c:\\Users\\koma2\\anaconda3\\envs\\unfallatlas\\Lib\\site-packages\\geopandas\\geodataframe.py:1543: SettingWithCopyWarning: \n",
      "A value is trying to be set on a copy of a slice from a DataFrame.\n",
      "Try using .loc[row_indexer,col_indexer] = value instead\n",
      "\n",
      "See the caveats in the documentation: https://pandas.pydata.org/pandas-docs/stable/user_guide/indexing.html#returning-a-view-versus-a-copy\n",
      "  super().__setitem__(key, value)\n"
     ]
    },
    {
     "data": {
      "application/vnd.jupyter.widget-view+json": {
       "model_id": "6ed146eb9846408982fe89ee22417978",
       "version_major": 2,
       "version_minor": 0
      },
      "text/plain": [
       "DeckGLWidget(carto_key=None, custom_libraries=[], google_maps_key=None, json_input='{\\n  \"initialViewState\": {…"
      ]
     },
     "metadata": {},
     "output_type": "display_data"
    }
   ],
   "source": [
    "# let's plot a map for more visual exploration\n",
    "\n",
    "\n",
    "# set a manual filter for dataframe\n",
    "df = df_final\n",
    "#df = df_final[df_final['filter_usable'] == 1]\n",
    "\n",
    "\n",
    "df['coord_list'] = df['geometry'].apply(my_geom_coord_extractor)\n",
    "\n",
    "\n",
    "\n",
    "\n",
    "view = pydeck.ViewState(latitude=53.075709, longitude=8.803960)\n",
    "#view.pitch = 55\n",
    "view.bearing = 60\n",
    "view.zoom = 13\n",
    "view.height = 800\n",
    "\n",
    "\n",
    "cqi_br = pydeck.Layer(\n",
    "    type='PathLayer',\n",
    "    data=df,\n",
    "    pickable=True,\n",
    "    get_color='[126, index*2.5, index*1.25, 155]',\n",
    "    width_scale=5,\n",
    "    width_min_pixels=2,\n",
    "    get_path='coord_list',\n",
    "    get_width=1,\n",
    ")\n",
    "\n",
    "\n",
    "\n",
    "map= pydeck.Deck(layers=[cqi_br],\n",
    "        initial_view_state=view,\n",
    "        map_style='light'\n",
    "        )\n",
    "map.show()"
   ]
  },
  {
   "cell_type": "code",
   "execution_count": 20,
   "metadata": {},
   "outputs": [
    {
     "data": {
      "text/plain": [
       "Index(['id', 'name', 'way_type', 'index', 'index_10', 'stress_level', 'offset',\n",
       "       'side', 'proc_width', 'proc_surface', 'proc_smoothness', 'proc_oneway',\n",
       "       'proc_sidepath', 'proc_highway', 'proc_maxspeed',\n",
       "       'proc_traffic_mode_left', 'proc_traffic_mode_right',\n",
       "       'proc_separation_left', 'proc_separation_right', 'proc_buffer_left',\n",
       "       'proc_buffer_right', 'proc_mandatory', 'proc_traffic_sign', 'fac_width',\n",
       "       'fac_surface', 'fac_highway', 'fac_maxspeed', 'base_index', 'fac_1',\n",
       "       'fac_2', 'fac_3', 'fac_4', 'data_bonus', 'data_malus',\n",
       "       'data_incompleteness', 'data_missing', 'data_missing_width',\n",
       "       'data_missing_surface', 'data_missing_smoothness',\n",
       "       'data_missing_maxspeed', 'data_missing_parking', 'data_missing_lit',\n",
       "       'filter_usable', 'filter_way_type', 'geometry', 'coord_list'],\n",
       "      dtype='object')"
      ]
     },
     "execution_count": 20,
     "metadata": {},
     "output_type": "execute_result"
    }
   ],
   "source": [
    "df_final.columns"
   ]
  },
  {
   "cell_type": "code",
   "execution_count": 21,
   "metadata": {},
   "outputs": [
    {
     "data": {
      "text/plain": [
       "46.59204988308652"
      ]
     },
     "execution_count": 21,
     "metadata": {},
     "output_type": "execute_result"
    }
   ],
   "source": [
    "# Mittelwert Qualitätsindex\n",
    "df_final['index'].mean()"
   ]
  },
  {
   "cell_type": "code",
   "execution_count": 22,
   "metadata": {},
   "outputs": [
    {
     "data": {
      "text/plain": [
       "46.8497772119669"
      ]
     },
     "execution_count": 22,
     "metadata": {},
     "output_type": "execute_result"
    }
   ],
   "source": [
    "# Mittelwert Qualitätsindex bei Filter nach Nutzbarkeit\n",
    "df_final[df_final['filter_usable'] == 1]['index'].mean()"
   ]
  },
  {
   "cell_type": "code",
   "execution_count": 23,
   "metadata": {},
   "outputs": [
    {
     "data": {
      "text/plain": [
       "<Axes: xlabel='proc_surface'>"
      ]
     },
     "execution_count": 23,
     "metadata": {},
     "output_type": "execute_result"
    },
    {
     "data": {
      "image/png": "[encoded data removed]",
      "text/plain": [
       "<Figure size 640x480 with 1 Axes>"
      ]
     },
     "metadata": {},
     "output_type": "display_data"
    }
   ],
   "source": [
    "# Anzahl der Wege nach Oberflächenmaterial\n",
    "df_final['proc_surface'].value_counts().plot(kind='bar')"
   ]
  },
  {
   "cell_type": "code",
   "execution_count": 24,
   "metadata": {},
   "outputs": [
    {
     "data": {
      "text/plain": [
       "<Axes: xlabel='proc_maxspeed'>"
      ]
     },
     "execution_count": 24,
     "metadata": {},
     "output_type": "execute_result"
    },
    {
     "data": {
      "image/png": "[encoded data removed]",
      "text/plain": [
       "<Figure size 640x480 with 1 Axes>"
      ]
     },
     "metadata": {},
     "output_type": "display_data"
    }
   ],
   "source": [
    "# Anzahl der Wege nach Geschwindigkeitsbegrenzung\n",
    "df_final['proc_maxspeed'].value_counts().plot(kind='bar')"
   ]
  },
  {
   "cell_type": "code",
   "execution_count": 25,
   "metadata": {},
   "outputs": [
    {
     "data": {
      "text/plain": [
       "<Axes: xlabel='proc_smoothness'>"
      ]
     },
     "execution_count": 25,
     "metadata": {},
     "output_type": "execute_result"
    },
    {
     "data": {
      "image/png": "[encoded data removed]",
      "text/plain": [
       "<Figure size 640x480 with 1 Axes>"
      ]
     },
     "metadata": {},
     "output_type": "display_data"
    }
   ],
   "source": [
    "# Anzahl der Wege nach Oberflächenbeschaffenheit\n",
    "df_final['proc_smoothness'].value_counts().plot(kind='bar')"
   ]
  },
  {
   "cell_type": "code",
   "execution_count": 26,
   "metadata": {},
   "outputs": [
    {
     "data": {
      "text/plain": [
       "311.9284270277389"
      ]
     },
     "execution_count": 26,
     "metadata": {},
     "output_type": "execute_result"
    }
   ],
   "source": [
    "# calc lenght of epsg 4326 linestrings\n",
    "# https://stackoverflow.com/questions/71412258/calculate-length-of-linestring-in-meters-using-python\n",
    "\n",
    "from pyproj import Transformer\n",
    "from shapely.geometry import LineString\n",
    "import shapely.ops as sp_ops\n",
    "\n",
    "latlon = [[59.94661244955431, 10.72052329576658], [59.948009419166226, 10.725362000881619]]\n",
    "xy = [(lon, lat) for lat, lon in latlon]\n",
    "line = LineString(xy)\n",
    "transformer = Transformer.from_crs('EPSG:4326', 'EPSG:32632', always_xy=True)\n",
    "line_transformed = sp_ops.transform(transformer.transform, line)\n",
    "line_transformed.length\n"
   ]
  },
  {
   "cell_type": "code",
   "execution_count": 27,
   "metadata": {},
   "outputs": [],
   "source": [
    "line = df_final.geometry[0]\n",
    "\n",
    "def way_lenght(geometry):\n",
    "    transformer = Transformer.from_crs('EPSG:4326', 'EPSG:32632', always_xy=True)\n",
    "    line_transformed = sp_ops.transform(transformer.transform, geometry)\n",
    "    return line_transformed.length\n"
   ]
  },
  {
   "cell_type": "code",
   "execution_count": 28,
   "metadata": {},
   "outputs": [
    {
     "name": "stderr",
     "output_type": "stream",
     "text": [
      "c:\\Users\\koma2\\anaconda3\\envs\\unfallatlas\\Lib\\site-packages\\geopandas\\geodataframe.py:1543: SettingWithCopyWarning: \n",
      "A value is trying to be set on a copy of a slice from a DataFrame.\n",
      "Try using .loc[row_indexer,col_indexer] = value instead\n",
      "\n",
      "See the caveats in the documentation: https://pandas.pydata.org/pandas-docs/stable/user_guide/indexing.html#returning-a-view-versus-a-copy\n",
      "  super().__setitem__(key, value)\n"
     ]
    }
   ],
   "source": [
    "df = df_final\n",
    "\n",
    "for i in df.index:\n",
    "    geo = df.at[i, 'geometry']\n",
    "    df.at[i, 'way_lenght'] = way_lenght(geo)"
   ]
  },
  {
   "cell_type": "code",
   "execution_count": 29,
   "metadata": {},
   "outputs": [
    {
     "data": {
      "text/plain": [
       "879298.7068495062"
      ]
     },
     "execution_count": 29,
     "metadata": {},
     "output_type": "execute_result"
    }
   ],
   "source": [
    "df.way_lenght.sum()"
   ]
  },
  {
   "cell_type": "code",
   "execution_count": 30,
   "metadata": {},
   "outputs": [
    {
     "data": {
      "text/plain": [
       "879.2987068495063"
      ]
     },
     "execution_count": 30,
     "metadata": {},
     "output_type": "execute_result"
    }
   ],
   "source": [
    "df.way_lenght.sum() / 1000"
   ]
  },
  {
   "cell_type": "markdown",
   "metadata": {},
   "source": [
    "# Stats of Hauptrouten"
   ]
  },
  {
   "cell_type": "code",
   "execution_count": 31,
   "metadata": {},
   "outputs": [],
   "source": [
    "df = df_bikeroutes"
   ]
  },
  {
   "cell_type": "code",
   "execution_count": 32,
   "metadata": {},
   "outputs": [],
   "source": [
    "# filter some cols\n",
    "df =df[['id', 'access', 'access:lanes', 'access:lanes:forward', 'bicycle', 'bicycle:backward',\n",
    " 'bicycle:conditional', 'bicycle:forward', 'bicycle:lanes', 'bicycle:lanes:backward', 'bicycle:lanes:forward',\n",
    " 'bicycle_road', 'bridge', 'bridge:name', 'bridge:ref', 'bridge:structure', 'bridleway',\n",
    " 'change:lanes:backward', 'change:lanes:forward', 'check_date', 'check_date:bicycle', 'check_date:cycleway', 'check_date:footway:surface',\n",
    " 'check_date:lit', 'check_date:segregated', 'check_date:smoothness', 'check_date:surface', 'check_date:tracktype', 'crossing',\n",
    " 'crossing:island', 'cycleway', 'cycleway:bicycle', 'cycleway:both', 'cycleway:both:bicycle', 'cycleway:both:colour',\n",
    " 'cycleway:both:lane', 'cycleway:both:segregated', 'cycleway:both:smoothness', 'cycleway:both:surface', 'cycleway:both:traffic_sign', 'cycleway:both:width',\n",
    " 'cycleway:colour', 'cycleway:crossing:markings', 'cycleway:freedom_of_choice', 'cycleway:lane', 'cycleway:lanes', 'cycleway:left',\n",
    " 'cycleway:left:bicycle', 'cycleway:left:colour', 'cycleway:left:freedom_of_choice', 'cycleway:left:lane', 'cycleway:left:mandatory', 'cycleway:left:oneway',\n",
    " 'cycleway:left:segregated', 'cycleway:left:smoothness', 'cycleway:left:surface', 'cycleway:left:traffic_sign', 'cycleway:left:traffic_sign:backward', 'cycleway:left:traffic_sign:forward',\n",
    " 'cycleway:left:width', 'cycleway:note', 'cycleway:oneway', 'cycleway:right', 'cycleway:right:bicycle', 'cycleway:right:bicycle:backward',\n",
    " 'cycleway:right:bicycle:forward', 'cycleway:right:colour', 'cycleway:right:freedom_of_choice', 'cycleway:right:lane', 'cycleway:right:mandatory', 'cycleway:right:mofa',\n",
    " 'cycleway:right:oneway', 'cycleway:right:segregated', 'cycleway:right:smoothness', 'cycleway:right:surface', 'cycleway:right:surface:colour', 'cycleway:right:traffic_sign',\n",
    " 'cycleway:right:traffic_sign:backward', 'cycleway:right:traffic_sign:forward', 'cycleway:right:width', 'cycleway:segregated', 'cycleway:smoothness', 'cycleway:surface',\n",
    " 'cycleway:surface:both', 'cycleway:surface:colour', 'cycleway:traffic_sign', 'cycleway:width', 'foot', 'foot:lanes',\n",
    " 'footway', 'footway:colour', 'footway:crossing:markings', 'footway:left', 'footway:right', 'footway:right:bicycle', 'footway:right:foot',\n",
    " 'footway:right:oneway', 'footway:right:segregated', 'footway:right:smoothness', 'footway:right:surface', 'footway:right:traffic_sign', 'footway:smoothness',\n",
    " 'footway:surface', 'footway:surface:description', 'footway:width', 'lanes', 'maxspeed', 'motor_vehicle', 'motor_vehicle:lanes',\n",
    " 'motorcar', 'motorcycle', 'motorroad', 'name', 'note:cycleway', 'note:oneway:bicycle', 'note:segregated',\n",
    " 'oneway', 'oneway:bicycle', 'oneway:bus', 'segregated', 'service', 'sidewalk', 'sidewalk:bicycle', 'sidewalk:both',\n",
    " 'sidewalk:both:bicycle', 'sidewalk:both:bicycle:signed', 'sidewalk:both:handrail', 'sidewalk:both:smoothness', 'sidewalk:both:surface',\n",
    " 'sidewalk:both:traffic_sign', 'sidewalk:left', 'sidewalk:left:bicycle', 'sidewalk:left:oneway', 'sidewalk:left:surface', 'sidewalk:left:traffic_sign',\n",
    " 'sidewalk:left:width', 'sidewalk:right', 'sidewalk:right:bicycle', 'sidewalk:right:bicycle:signed', 'sidewalk:right:foot',\n",
    " 'sidewalk:right:oneway', 'sidewalk:right:segregated', 'sidewalk:right:smoothness', 'sidewalk:right:surface', 'sidewalk:right:traffic_sign',\n",
    " 'sidewalk:traffic_sign', 'smoothness', 'surface', 'zone:maxspeed', 'zone:traffic', 'geometry']]"
   ]
  },
  {
   "cell_type": "code",
   "execution_count": 33,
   "metadata": {},
   "outputs": [
    {
     "name": "stderr",
     "output_type": "stream",
     "text": [
      "C:\\Users\\koma2\\AppData\\Local\\Temp\\ipykernel_9696\\193320771.py:7: ShapelyDeprecationWarning: The 'type' attribute is deprecated, and will be removed in the future. You can use the 'geom_type' attribute instead.\n",
      "  if input_geom.type[:len('multi')].lower() == 'multi':\n",
      "c:\\Users\\koma2\\anaconda3\\envs\\unfallatlas\\Lib\\site-packages\\geopandas\\geodataframe.py:1543: SettingWithCopyWarning: \n",
      "A value is trying to be set on a copy of a slice from a DataFrame.\n",
      "Try using .loc[row_indexer,col_indexer] = value instead\n",
      "\n",
      "See the caveats in the documentation: https://pandas.pydata.org/pandas-docs/stable/user_guide/indexing.html#returning-a-view-versus-a-copy\n",
      "  super().__setitem__(key, value)\n"
     ]
    }
   ],
   "source": [
    "df['coord_list'] = df['geometry'].apply(my_geom_coord_extractor)"
   ]
  },
  {
   "cell_type": "code",
   "execution_count": 34,
   "metadata": {},
   "outputs": [
    {
     "data": {
      "text/plain": [
       "4348"
      ]
     },
     "execution_count": 34,
     "metadata": {},
     "output_type": "execute_result"
    }
   ],
   "source": [
    "len(df)"
   ]
  },
  {
   "cell_type": "code",
   "execution_count": 35,
   "metadata": {},
   "outputs": [],
   "source": [
    "df_missing = geopandas.GeoDataFrame(df.isna().sum())"
   ]
  },
  {
   "cell_type": "code",
   "execution_count": 44,
   "metadata": {},
   "outputs": [
    {
     "data": {
      "text/html": [
       "<div>\n",
       "<style scoped>\n",
       "    .dataframe tbody tr th:only-of-type {\n",
       "        vertical-align: middle;\n",
       "    }\n",
       "\n",
       "    .dataframe tbody tr th {\n",
       "        vertical-align: top;\n",
       "    }\n",
       "\n",
       "    .dataframe thead th {\n",
       "        text-align: right;\n",
       "    }\n",
       "</style>\n",
       "<table border=\"1\" class=\"dataframe\">\n",
       "  <thead>\n",
       "    <tr style=\"text-align: right;\">\n",
       "      <th></th>\n",
       "      <th>0</th>\n",
       "      <th>percent1</th>\n",
       "      <th>percent2</th>\n",
       "    </tr>\n",
       "  </thead>\n",
       "  <tbody>\n",
       "    <tr>\n",
       "      <th>id</th>\n",
       "      <td>0</td>\n",
       "      <td>0.0</td>\n",
       "      <td>0.0</td>\n",
       "    </tr>\n",
       "    <tr>\n",
       "      <th>geometry</th>\n",
       "      <td>0</td>\n",
       "      <td>0.0</td>\n",
       "      <td>0.0</td>\n",
       "    </tr>\n",
       "    <tr>\n",
       "      <th>coord_list</th>\n",
       "      <td>0</td>\n",
       "      <td>0.0</td>\n",
       "      <td>0.0</td>\n",
       "    </tr>\n",
       "  </tbody>\n",
       "</table>\n",
       "</div>"
      ],
      "text/plain": [
       "            0  percent1  percent2\n",
       "id          0       0.0       0.0\n",
       "geometry    0       0.0       0.0\n",
       "coord_list  0       0.0       0.0"
      ]
     },
     "execution_count": 44,
     "metadata": {},
     "output_type": "execute_result"
    }
   ],
   "source": [
    "df_missing[df_missing[0] == 0]"
   ]
  },
  {
   "cell_type": "code",
   "execution_count": 36,
   "metadata": {},
   "outputs": [
    {
     "data": {
      "text/html": [
       "<div>\n",
       "<style scoped>\n",
       "    .dataframe tbody tr th:only-of-type {\n",
       "        vertical-align: middle;\n",
       "    }\n",
       "\n",
       "    .dataframe tbody tr th {\n",
       "        vertical-align: top;\n",
       "    }\n",
       "\n",
       "    .dataframe thead th {\n",
       "        text-align: right;\n",
       "    }\n",
       "</style>\n",
       "<table border=\"1\" class=\"dataframe\">\n",
       "  <thead>\n",
       "    <tr style=\"text-align: right;\">\n",
       "      <th></th>\n",
       "      <th>0</th>\n",
       "    </tr>\n",
       "  </thead>\n",
       "  <tbody>\n",
       "    <tr>\n",
       "      <th>access</th>\n",
       "      <td>4331</td>\n",
       "    </tr>\n",
       "    <tr>\n",
       "      <th>access:lanes</th>\n",
       "      <td>4343</td>\n",
       "    </tr>\n",
       "    <tr>\n",
       "      <th>access:lanes:forward</th>\n",
       "      <td>4346</td>\n",
       "    </tr>\n",
       "    <tr>\n",
       "      <th>bicycle</th>\n",
       "      <td>2625</td>\n",
       "    </tr>\n",
       "    <tr>\n",
       "      <th>bicycle:backward</th>\n",
       "      <td>4344</td>\n",
       "    </tr>\n",
       "    <tr>\n",
       "      <th>...</th>\n",
       "      <td>...</td>\n",
       "    </tr>\n",
       "    <tr>\n",
       "      <th>sidewalk:traffic_sign</th>\n",
       "      <td>4345</td>\n",
       "    </tr>\n",
       "    <tr>\n",
       "      <th>smoothness</th>\n",
       "      <td>3227</td>\n",
       "    </tr>\n",
       "    <tr>\n",
       "      <th>surface</th>\n",
       "      <td>166</td>\n",
       "    </tr>\n",
       "    <tr>\n",
       "      <th>zone:maxspeed</th>\n",
       "      <td>4323</td>\n",
       "    </tr>\n",
       "    <tr>\n",
       "      <th>zone:traffic</th>\n",
       "      <td>4335</td>\n",
       "    </tr>\n",
       "  </tbody>\n",
       "</table>\n",
       "<p>149 rows × 1 columns</p>\n",
       "</div>"
      ],
      "text/plain": [
       "                          0\n",
       "access                 4331\n",
       "access:lanes           4343\n",
       "access:lanes:forward   4346\n",
       "bicycle                2625\n",
       "bicycle:backward       4344\n",
       "...                     ...\n",
       "sidewalk:traffic_sign  4345\n",
       "smoothness             3227\n",
       "surface                 166\n",
       "zone:maxspeed          4323\n",
       "zone:traffic           4335\n",
       "\n",
       "[149 rows x 1 columns]"
      ]
     },
     "execution_count": 36,
     "metadata": {},
     "output_type": "execute_result"
    }
   ],
   "source": [
    "# dropping all cols  with zero missing data\n",
    "df_missing[df_missing[0] != 0]"
   ]
  },
  {
   "cell_type": "code",
   "execution_count": 37,
   "metadata": {},
   "outputs": [],
   "source": [
    "df_missing['percent1'] = df_missing[0] / len(df)"
   ]
  },
  {
   "cell_type": "code",
   "execution_count": 38,
   "metadata": {},
   "outputs": [],
   "source": [
    "df_missing['percent2'] = df_missing['percent1'] * 100"
   ]
  },
  {
   "cell_type": "code",
   "execution_count": 39,
   "metadata": {},
   "outputs": [
    {
     "data": {
      "text/html": [
       "<div>\n",
       "<style scoped>\n",
       "    .dataframe tbody tr th:only-of-type {\n",
       "        vertical-align: middle;\n",
       "    }\n",
       "\n",
       "    .dataframe tbody tr th {\n",
       "        vertical-align: top;\n",
       "    }\n",
       "\n",
       "    .dataframe thead th {\n",
       "        text-align: right;\n",
       "    }\n",
       "</style>\n",
       "<table border=\"1\" class=\"dataframe\">\n",
       "  <thead>\n",
       "    <tr style=\"text-align: right;\">\n",
       "      <th></th>\n",
       "      <th>0</th>\n",
       "      <th>percent1</th>\n",
       "      <th>percent2</th>\n",
       "    </tr>\n",
       "  </thead>\n",
       "  <tbody>\n",
       "    <tr>\n",
       "      <th>id</th>\n",
       "      <td>0</td>\n",
       "      <td>0.000000</td>\n",
       "      <td>0.000000</td>\n",
       "    </tr>\n",
       "    <tr>\n",
       "      <th>bicycle</th>\n",
       "      <td>2625</td>\n",
       "      <td>0.603726</td>\n",
       "      <td>60.372585</td>\n",
       "    </tr>\n",
       "    <tr>\n",
       "      <th>foot</th>\n",
       "      <td>2765</td>\n",
       "      <td>0.635925</td>\n",
       "      <td>63.592456</td>\n",
       "    </tr>\n",
       "    <tr>\n",
       "      <th>lanes</th>\n",
       "      <td>2874</td>\n",
       "      <td>0.660994</td>\n",
       "      <td>66.099356</td>\n",
       "    </tr>\n",
       "    <tr>\n",
       "      <th>maxspeed</th>\n",
       "      <td>1847</td>\n",
       "      <td>0.424793</td>\n",
       "      <td>42.479301</td>\n",
       "    </tr>\n",
       "    <tr>\n",
       "      <th>name</th>\n",
       "      <td>1364</td>\n",
       "      <td>0.313707</td>\n",
       "      <td>31.370745</td>\n",
       "    </tr>\n",
       "    <tr>\n",
       "      <th>oneway</th>\n",
       "      <td>2295</td>\n",
       "      <td>0.527829</td>\n",
       "      <td>52.782889</td>\n",
       "    </tr>\n",
       "    <tr>\n",
       "      <th>sidewalk</th>\n",
       "      <td>2438</td>\n",
       "      <td>0.560718</td>\n",
       "      <td>56.071757</td>\n",
       "    </tr>\n",
       "    <tr>\n",
       "      <th>surface</th>\n",
       "      <td>166</td>\n",
       "      <td>0.038178</td>\n",
       "      <td>3.817847</td>\n",
       "    </tr>\n",
       "    <tr>\n",
       "      <th>geometry</th>\n",
       "      <td>0</td>\n",
       "      <td>0.000000</td>\n",
       "      <td>0.000000</td>\n",
       "    </tr>\n",
       "    <tr>\n",
       "      <th>coord_list</th>\n",
       "      <td>0</td>\n",
       "      <td>0.000000</td>\n",
       "      <td>0.000000</td>\n",
       "    </tr>\n",
       "  </tbody>\n",
       "</table>\n",
       "</div>"
      ],
      "text/plain": [
       "               0  percent1   percent2\n",
       "id             0  0.000000   0.000000\n",
       "bicycle     2625  0.603726  60.372585\n",
       "foot        2765  0.635925  63.592456\n",
       "lanes       2874  0.660994  66.099356\n",
       "maxspeed    1847  0.424793  42.479301\n",
       "name        1364  0.313707  31.370745\n",
       "oneway      2295  0.527829  52.782889\n",
       "sidewalk    2438  0.560718  56.071757\n",
       "surface      166  0.038178   3.817847\n",
       "geometry       0  0.000000   0.000000\n",
       "coord_list     0  0.000000   0.000000"
      ]
     },
     "execution_count": 39,
     "metadata": {},
     "output_type": "execute_result"
    }
   ],
   "source": [
    "df_missing[df_missing['percent2'] <= 70] "
   ]
  },
  {
   "cell_type": "code",
   "execution_count": 40,
   "metadata": {},
   "outputs": [
    {
     "data": {
      "text/plain": [
       "<Axes: xlabel='maxspeed'>"
      ]
     },
     "execution_count": 40,
     "metadata": {},
     "output_type": "execute_result"
    },
    {
     "data": {
      "image/png": "[encoded data removed]",
      "text/plain": [
       "<Figure size 640x480 with 1 Axes>"
      ]
     },
     "metadata": {},
     "output_type": "display_data"
    }
   ],
   "source": [
    "df['maxspeed'].value_counts().plot(kind='bar')"
   ]
  },
  {
   "cell_type": "code",
   "execution_count": 41,
   "metadata": {},
   "outputs": [
    {
     "data": {
      "text/plain": [
       "<Axes: xlabel='bicycle'>"
      ]
     },
     "execution_count": 41,
     "metadata": {},
     "output_type": "execute_result"
    },
    {
     "data": {
      "image/png": "[encoded data removed]",
      "text/plain": [
       "<Figure size 640x480 with 1 Axes>"
      ]
     },
     "metadata": {},
     "output_type": "display_data"
    }
   ],
   "source": [
    "df['bicycle'].value_counts().plot(kind='bar')"
   ]
  },
  {
   "cell_type": "code",
   "execution_count": 42,
   "metadata": {},
   "outputs": [
    {
     "data": {
      "application/vnd.jupyter.widget-view+json": {
       "model_id": "71a6657bb7a645c6808d99484d0c42b7",
       "version_major": 2,
       "version_minor": 0
      },
      "text/plain": [
       "DeckGLWidget(carto_key=None, custom_libraries=[], google_maps_key=None, json_input='{\\n  \"initialViewState\": {…"
      ]
     },
     "metadata": {},
     "output_type": "display_data"
    }
   ],
   "source": [
    "df_dismount = df[df['bicycle'] ==  'dismount']\n",
    "\n",
    "view = pydeck.ViewState(latitude=53.075709, longitude=8.803960)\n",
    "#view.pitch = 55\n",
    "view.bearing = 60\n",
    "view.zoom = 13\n",
    "view.height = 800\n",
    "\n",
    "\n",
    "cqi_br = pydeck.Layer(\n",
    "    type='PathLayer',\n",
    "    data=df_dismount,\n",
    "    pickable=True,\n",
    "    get_color='[126, index*2.5, index*1.25, 155]',\n",
    "    width_scale=5,\n",
    "    width_min_pixels=2,\n",
    "    get_path='coord_list',\n",
    "    get_width=1,\n",
    ")\n",
    "\n",
    "map= pydeck.Deck(layers=[cqi_br],\n",
    "        initial_view_state=view,\n",
    "        map_style='light'\n",
    "        )\n",
    "map.show()"
   ]
  },
  {
   "cell_type": "code",
   "execution_count": 43,
   "metadata": {},
   "outputs": [
    {
     "data": {
      "text/html": [
       "<div>\n",
       "<style scoped>\n",
       "    .dataframe tbody tr th:only-of-type {\n",
       "        vertical-align: middle;\n",
       "    }\n",
       "\n",
       "    .dataframe tbody tr th {\n",
       "        vertical-align: top;\n",
       "    }\n",
       "\n",
       "    .dataframe thead th {\n",
       "        text-align: right;\n",
       "    }\n",
       "</style>\n",
       "<table border=\"1\" class=\"dataframe\">\n",
       "  <thead>\n",
       "    <tr style=\"text-align: right;\">\n",
       "      <th></th>\n",
       "      <th>id</th>\n",
       "      <th>access</th>\n",
       "      <th>access:lanes</th>\n",
       "      <th>access:lanes:forward</th>\n",
       "      <th>bicycle</th>\n",
       "      <th>bicycle:backward</th>\n",
       "      <th>bicycle:conditional</th>\n",
       "      <th>bicycle:forward</th>\n",
       "      <th>bicycle:lanes</th>\n",
       "      <th>bicycle:lanes:backward</th>\n",
       "      <th>...</th>\n",
       "      <th>sidewalk:right:smoothness</th>\n",
       "      <th>sidewalk:right:surface</th>\n",
       "      <th>sidewalk:right:traffic_sign</th>\n",
       "      <th>sidewalk:traffic_sign</th>\n",
       "      <th>smoothness</th>\n",
       "      <th>surface</th>\n",
       "      <th>zone:maxspeed</th>\n",
       "      <th>zone:traffic</th>\n",
       "      <th>geometry</th>\n",
       "      <th>coord_list</th>\n",
       "    </tr>\n",
       "  </thead>\n",
       "  <tbody>\n",
       "    <tr>\n",
       "      <th>86</th>\n",
       "      <td>way/4282687</td>\n",
       "      <td>None</td>\n",
       "      <td>None</td>\n",
       "      <td>None</td>\n",
       "      <td>dismount</td>\n",
       "      <td>None</td>\n",
       "      <td>None</td>\n",
       "      <td>None</td>\n",
       "      <td>None</td>\n",
       "      <td>None</td>\n",
       "      <td>...</td>\n",
       "      <td>None</td>\n",
       "      <td>None</td>\n",
       "      <td>None</td>\n",
       "      <td>None</td>\n",
       "      <td>None</td>\n",
       "      <td>paving_stones</td>\n",
       "      <td>None</td>\n",
       "      <td>None</td>\n",
       "      <td>LINESTRING (8.81122 53.07694, 8.81161 53.07709...</td>\n",
       "      <td>[[8.8112181, 53.0769383], [8.8116118, 53.07708...</td>\n",
       "    </tr>\n",
       "    <tr>\n",
       "      <th>548</th>\n",
       "      <td>way/23339716</td>\n",
       "      <td>None</td>\n",
       "      <td>None</td>\n",
       "      <td>None</td>\n",
       "      <td>dismount</td>\n",
       "      <td>None</td>\n",
       "      <td>None</td>\n",
       "      <td>None</td>\n",
       "      <td>None</td>\n",
       "      <td>None</td>\n",
       "      <td>...</td>\n",
       "      <td>None</td>\n",
       "      <td>None</td>\n",
       "      <td>None</td>\n",
       "      <td>None</td>\n",
       "      <td>None</td>\n",
       "      <td>metal</td>\n",
       "      <td>None</td>\n",
       "      <td>None</td>\n",
       "      <td>LINESTRING (8.62544 53.16806, 8.62497 53.16836)</td>\n",
       "      <td>[[8.6254369, 53.1680634], [8.6249657, 53.16835...</td>\n",
       "    </tr>\n",
       "    <tr>\n",
       "      <th>652</th>\n",
       "      <td>way/23970461</td>\n",
       "      <td>None</td>\n",
       "      <td>None</td>\n",
       "      <td>None</td>\n",
       "      <td>dismount</td>\n",
       "      <td>None</td>\n",
       "      <td>None</td>\n",
       "      <td>None</td>\n",
       "      <td>None</td>\n",
       "      <td>None</td>\n",
       "      <td>...</td>\n",
       "      <td>None</td>\n",
       "      <td>None</td>\n",
       "      <td>None</td>\n",
       "      <td>None</td>\n",
       "      <td>None</td>\n",
       "      <td>metal</td>\n",
       "      <td>None</td>\n",
       "      <td>None</td>\n",
       "      <td>LINESTRING (8.62497 53.16836, 8.62494 53.16837)</td>\n",
       "      <td>[[8.6249657, 53.1683557], [8.6249401, 53.16837...</td>\n",
       "    </tr>\n",
       "    <tr>\n",
       "      <th>793</th>\n",
       "      <td>way/26644111</td>\n",
       "      <td>None</td>\n",
       "      <td>None</td>\n",
       "      <td>None</td>\n",
       "      <td>dismount</td>\n",
       "      <td>None</td>\n",
       "      <td>None</td>\n",
       "      <td>None</td>\n",
       "      <td>None</td>\n",
       "      <td>None</td>\n",
       "      <td>...</td>\n",
       "      <td>None</td>\n",
       "      <td>None</td>\n",
       "      <td>None</td>\n",
       "      <td>None</td>\n",
       "      <td>good</td>\n",
       "      <td>asphalt</td>\n",
       "      <td>None</td>\n",
       "      <td>None</td>\n",
       "      <td>LINESTRING (8.68813 53.17053, 8.68797 53.17059...</td>\n",
       "      <td>[[8.6881343, 53.1705324], [8.6879684, 53.17059...</td>\n",
       "    </tr>\n",
       "    <tr>\n",
       "      <th>1714</th>\n",
       "      <td>way/188806173</td>\n",
       "      <td>None</td>\n",
       "      <td>None</td>\n",
       "      <td>None</td>\n",
       "      <td>dismount</td>\n",
       "      <td>None</td>\n",
       "      <td>None</td>\n",
       "      <td>None</td>\n",
       "      <td>None</td>\n",
       "      <td>None</td>\n",
       "      <td>...</td>\n",
       "      <td>None</td>\n",
       "      <td>None</td>\n",
       "      <td>None</td>\n",
       "      <td>None</td>\n",
       "      <td>None</td>\n",
       "      <td>paving_stones</td>\n",
       "      <td>None</td>\n",
       "      <td>None</td>\n",
       "      <td>LINESTRING (8.81115 53.07691, 8.81122 53.07694)</td>\n",
       "      <td>[[8.8111484, 53.0769123], [8.8112181, 53.07693...</td>\n",
       "    </tr>\n",
       "    <tr>\n",
       "      <th>2397</th>\n",
       "      <td>way/250182712</td>\n",
       "      <td>None</td>\n",
       "      <td>None</td>\n",
       "      <td>None</td>\n",
       "      <td>dismount</td>\n",
       "      <td>None</td>\n",
       "      <td>None</td>\n",
       "      <td>None</td>\n",
       "      <td>None</td>\n",
       "      <td>None</td>\n",
       "      <td>...</td>\n",
       "      <td>None</td>\n",
       "      <td>None</td>\n",
       "      <td>None</td>\n",
       "      <td>None</td>\n",
       "      <td>excellent</td>\n",
       "      <td>paving_stones</td>\n",
       "      <td>None</td>\n",
       "      <td>None</td>\n",
       "      <td>LINESTRING (8.81068 53.07672, 8.81075 53.07674...</td>\n",
       "      <td>[[8.8106798, 53.0767243], [8.8107539, 53.07673...</td>\n",
       "    </tr>\n",
       "    <tr>\n",
       "      <th>3377</th>\n",
       "      <td>way/525700454</td>\n",
       "      <td>None</td>\n",
       "      <td>None</td>\n",
       "      <td>None</td>\n",
       "      <td>dismount</td>\n",
       "      <td>None</td>\n",
       "      <td>None</td>\n",
       "      <td>None</td>\n",
       "      <td>None</td>\n",
       "      <td>None</td>\n",
       "      <td>...</td>\n",
       "      <td>None</td>\n",
       "      <td>None</td>\n",
       "      <td>None</td>\n",
       "      <td>None</td>\n",
       "      <td>None</td>\n",
       "      <td>metal</td>\n",
       "      <td>None</td>\n",
       "      <td>None</td>\n",
       "      <td>LINESTRING (8.62544 53.16806, 8.62563 53.16795)</td>\n",
       "      <td>[[8.6254369, 53.1680634], [8.6256261, 53.16794...</td>\n",
       "    </tr>\n",
       "    <tr>\n",
       "      <th>4149</th>\n",
       "      <td>way/1167751343</td>\n",
       "      <td>None</td>\n",
       "      <td>None</td>\n",
       "      <td>None</td>\n",
       "      <td>dismount</td>\n",
       "      <td>None</td>\n",
       "      <td>None</td>\n",
       "      <td>None</td>\n",
       "      <td>None</td>\n",
       "      <td>None</td>\n",
       "      <td>...</td>\n",
       "      <td>None</td>\n",
       "      <td>None</td>\n",
       "      <td>None</td>\n",
       "      <td>None</td>\n",
       "      <td>good</td>\n",
       "      <td>paving_stones</td>\n",
       "      <td>None</td>\n",
       "      <td>None</td>\n",
       "      <td>LINESTRING (8.68816 53.17011, 8.68813 53.17053)</td>\n",
       "      <td>[[8.6881648, 53.1701078], [8.6881343, 53.17053...</td>\n",
       "    </tr>\n",
       "    <tr>\n",
       "      <th>4168</th>\n",
       "      <td>way/1180170899</td>\n",
       "      <td>None</td>\n",
       "      <td>None</td>\n",
       "      <td>None</td>\n",
       "      <td>dismount</td>\n",
       "      <td>None</td>\n",
       "      <td>None</td>\n",
       "      <td>None</td>\n",
       "      <td>None</td>\n",
       "      <td>None</td>\n",
       "      <td>...</td>\n",
       "      <td>None</td>\n",
       "      <td>None</td>\n",
       "      <td>None</td>\n",
       "      <td>None</td>\n",
       "      <td>None</td>\n",
       "      <td>paving_stones</td>\n",
       "      <td>None</td>\n",
       "      <td>None</td>\n",
       "      <td>LINESTRING (8.58467 53.18690, 8.58464 53.18695...</td>\n",
       "      <td>[[8.5846668, 53.1869044], [8.5846429, 53.18694...</td>\n",
       "    </tr>\n",
       "  </tbody>\n",
       "</table>\n",
       "<p>9 rows × 152 columns</p>\n",
       "</div>"
      ],
      "text/plain": [
       "                  id access access:lanes access:lanes:forward   bicycle  \\\n",
       "86       way/4282687   None         None                 None  dismount   \n",
       "548     way/23339716   None         None                 None  dismount   \n",
       "652     way/23970461   None         None                 None  dismount   \n",
       "793     way/26644111   None         None                 None  dismount   \n",
       "1714   way/188806173   None         None                 None  dismount   \n",
       "2397   way/250182712   None         None                 None  dismount   \n",
       "3377   way/525700454   None         None                 None  dismount   \n",
       "4149  way/1167751343   None         None                 None  dismount   \n",
       "4168  way/1180170899   None         None                 None  dismount   \n",
       "\n",
       "     bicycle:backward bicycle:conditional bicycle:forward bicycle:lanes  \\\n",
       "86               None                None            None          None   \n",
       "548              None                None            None          None   \n",
       "652              None                None            None          None   \n",
       "793              None                None            None          None   \n",
       "1714             None                None            None          None   \n",
       "2397             None                None            None          None   \n",
       "3377             None                None            None          None   \n",
       "4149             None                None            None          None   \n",
       "4168             None                None            None          None   \n",
       "\n",
       "     bicycle:lanes:backward  ... sidewalk:right:smoothness  \\\n",
       "86                     None  ...                      None   \n",
       "548                    None  ...                      None   \n",
       "652                    None  ...                      None   \n",
       "793                    None  ...                      None   \n",
       "1714                   None  ...                      None   \n",
       "2397                   None  ...                      None   \n",
       "3377                   None  ...                      None   \n",
       "4149                   None  ...                      None   \n",
       "4168                   None  ...                      None   \n",
       "\n",
       "     sidewalk:right:surface sidewalk:right:traffic_sign sidewalk:traffic_sign  \\\n",
       "86                     None                        None                  None   \n",
       "548                    None                        None                  None   \n",
       "652                    None                        None                  None   \n",
       "793                    None                        None                  None   \n",
       "1714                   None                        None                  None   \n",
       "2397                   None                        None                  None   \n",
       "3377                   None                        None                  None   \n",
       "4149                   None                        None                  None   \n",
       "4168                   None                        None                  None   \n",
       "\n",
       "     smoothness        surface zone:maxspeed zone:traffic  \\\n",
       "86         None  paving_stones          None         None   \n",
       "548        None          metal          None         None   \n",
       "652        None          metal          None         None   \n",
       "793        good        asphalt          None         None   \n",
       "1714       None  paving_stones          None         None   \n",
       "2397  excellent  paving_stones          None         None   \n",
       "3377       None          metal          None         None   \n",
       "4149       good  paving_stones          None         None   \n",
       "4168       None  paving_stones          None         None   \n",
       "\n",
       "                                               geometry  \\\n",
       "86    LINESTRING (8.81122 53.07694, 8.81161 53.07709...   \n",
       "548     LINESTRING (8.62544 53.16806, 8.62497 53.16836)   \n",
       "652     LINESTRING (8.62497 53.16836, 8.62494 53.16837)   \n",
       "793   LINESTRING (8.68813 53.17053, 8.68797 53.17059...   \n",
       "1714    LINESTRING (8.81115 53.07691, 8.81122 53.07694)   \n",
       "2397  LINESTRING (8.81068 53.07672, 8.81075 53.07674...   \n",
       "3377    LINESTRING (8.62544 53.16806, 8.62563 53.16795)   \n",
       "4149    LINESTRING (8.68816 53.17011, 8.68813 53.17053)   \n",
       "4168  LINESTRING (8.58467 53.18690, 8.58464 53.18695...   \n",
       "\n",
       "                                             coord_list  \n",
       "86    [[8.8112181, 53.0769383], [8.8116118, 53.07708...  \n",
       "548   [[8.6254369, 53.1680634], [8.6249657, 53.16835...  \n",
       "652   [[8.6249657, 53.1683557], [8.6249401, 53.16837...  \n",
       "793   [[8.6881343, 53.1705324], [8.6879684, 53.17059...  \n",
       "1714  [[8.8111484, 53.0769123], [8.8112181, 53.07693...  \n",
       "2397  [[8.8106798, 53.0767243], [8.8107539, 53.07673...  \n",
       "3377  [[8.6254369, 53.1680634], [8.6256261, 53.16794...  \n",
       "4149  [[8.6881648, 53.1701078], [8.6881343, 53.17053...  \n",
       "4168  [[8.5846668, 53.1869044], [8.5846429, 53.18694...  \n",
       "\n",
       "[9 rows x 152 columns]"
      ]
     },
     "execution_count": 43,
     "metadata": {},
     "output_type": "execute_result"
    }
   ],
   "source": [
    "df_dismount"
   ]
  },
  {
   "cell_type": "code",
   "execution_count": 48,
   "metadata": {},
   "outputs": [
    {
     "data": {
      "text/plain": [
       "<Axes: xlabel='cycleway'>"
      ]
     },
     "execution_count": 48,
     "metadata": {},
     "output_type": "execute_result"
    },
    {
     "data": {
      "image/png": "[encoded data removed]",
      "text/plain": [
       "<Figure size 640x480 with 1 Axes>"
      ]
     },
     "metadata": {},
     "output_type": "display_data"
    }
   ],
   "source": [
    "df['cycleway'].value_counts().plot(kind='bar')"
   ]
  },
  {
   "cell_type": "code",
   "execution_count": 49,
   "metadata": {},
   "outputs": [
    {
     "data": {
      "text/plain": [
       "<Axes: xlabel='smoothness'>"
      ]
     },
     "execution_count": 49,
     "metadata": {},
     "output_type": "execute_result"
    },
    {
     "data": {
      "image/png": "[encoded data removed]",
      "text/plain": [
       "<Figure size 640x480 with 1 Axes>"
      ]
     },
     "metadata": {},
     "output_type": "display_data"
    }
   ],
   "source": [
    "df['smoothness'].value_counts().plot(kind='bar')"
   ]
  }
 ],
 "metadata": {
  "kernelspec": {
   "display_name": "unfallatlas",
   "language": "python",
   "name": "python3"
  },
  "language_info": {
   "codemirror_mode": {
    "name": "ipython",
    "version": 3
   },
   "file_extension": ".py",
   "mimetype": "text/x-python",
   "name": "python",
   "nbconvert_exporter": "python",
   "pygments_lexer": "ipython3",
   "version": "3.11.9"
  }
 },
 "nbformat": 4,
 "nbformat_minor": 2
}
